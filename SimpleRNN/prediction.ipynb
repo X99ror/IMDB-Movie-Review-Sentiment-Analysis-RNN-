{
 "cells": [
  {
   "cell_type": "code",
   "execution_count": 5,
   "id": "027a7533",
   "metadata": {},
   "outputs": [],
   "source": [
    "import numpy as np \n",
    "import tensorflow as tf\n",
    "from tensorflow.keras.datasets import imdb\n",
    "from tensorflow.keras.preprocessing import sequence\n",
    "from tensorflow.keras.models import load_model\n",
    "from tensorflow.keras.layers import Embedding, SimpleRNN, Dense"
   ]
  },
  {
   "cell_type": "code",
   "execution_count": 3,
   "id": "f5a4c707",
   "metadata": {},
   "outputs": [],
   "source": [
    "word_index=imdb.get_word_index()\n",
    "reverse_word_index={value:key for key, value in word_index.items()}"
   ]
  },
  {
   "cell_type": "code",
   "execution_count": 6,
   "id": "b8b12eeb",
   "metadata": {},
   "outputs": [
    {
     "name": "stderr",
     "output_type": "stream",
     "text": [
      "WARNING:absl:Compiled the loaded model, but the compiled metrics have yet to be built. `model.compile_metrics` will be empty until you train or evaluate the model.\n"
     ]
    },
    {
     "data": {
      "text/html": [
       "<pre style=\"white-space:pre;overflow-x:auto;line-height:normal;font-family:Menlo,'DejaVu Sans Mono',consolas,'Courier New',monospace\"><span style=\"font-weight: bold\">Model: \"sequential_6\"</span>\n",
       "</pre>\n"
      ],
      "text/plain": [
       "\u001b[1mModel: \"sequential_6\"\u001b[0m\n"
      ]
     },
     "metadata": {},
     "output_type": "display_data"
    },
    {
     "data": {
      "text/html": [
       "<pre style=\"white-space:pre;overflow-x:auto;line-height:normal;font-family:Menlo,'DejaVu Sans Mono',consolas,'Courier New',monospace\">┏━━━━━━━━━━━━━━━━━━━━━━━━━━━━━━━━━┳━━━━━━━━━━━━━━━━━━━━━━━━┳━━━━━━━━━━━━━━━┓\n",
       "┃<span style=\"font-weight: bold\"> Layer (type)                    </span>┃<span style=\"font-weight: bold\"> Output Shape           </span>┃<span style=\"font-weight: bold\">       Param # </span>┃\n",
       "┡━━━━━━━━━━━━━━━━━━━━━━━━━━━━━━━━━╇━━━━━━━━━━━━━━━━━━━━━━━━╇━━━━━━━━━━━━━━━┩\n",
       "│ embedding_5 (<span style=\"color: #0087ff; text-decoration-color: #0087ff\">Embedding</span>)         │ (<span style=\"color: #00d7ff; text-decoration-color: #00d7ff\">None</span>, <span style=\"color: #00af00; text-decoration-color: #00af00\">500</span>, <span style=\"color: #00af00; text-decoration-color: #00af00\">128</span>)       │     <span style=\"color: #00af00; text-decoration-color: #00af00\">1,280,000</span> │\n",
       "├─────────────────────────────────┼────────────────────────┼───────────────┤\n",
       "│ simple_rnn_5 (<span style=\"color: #0087ff; text-decoration-color: #0087ff\">SimpleRNN</span>)        │ (<span style=\"color: #00d7ff; text-decoration-color: #00d7ff\">None</span>, <span style=\"color: #00af00; text-decoration-color: #00af00\">128</span>)            │        <span style=\"color: #00af00; text-decoration-color: #00af00\">32,896</span> │\n",
       "├─────────────────────────────────┼────────────────────────┼───────────────┤\n",
       "│ dense_5 (<span style=\"color: #0087ff; text-decoration-color: #0087ff\">Dense</span>)                 │ (<span style=\"color: #00d7ff; text-decoration-color: #00d7ff\">None</span>, <span style=\"color: #00af00; text-decoration-color: #00af00\">1</span>)              │           <span style=\"color: #00af00; text-decoration-color: #00af00\">129</span> │\n",
       "└─────────────────────────────────┴────────────────────────┴───────────────┘\n",
       "</pre>\n"
      ],
      "text/plain": [
       "┏━━━━━━━━━━━━━━━━━━━━━━━━━━━━━━━━━┳━━━━━━━━━━━━━━━━━━━━━━━━┳━━━━━━━━━━━━━━━┓\n",
       "┃\u001b[1m \u001b[0m\u001b[1mLayer (type)                   \u001b[0m\u001b[1m \u001b[0m┃\u001b[1m \u001b[0m\u001b[1mOutput Shape          \u001b[0m\u001b[1m \u001b[0m┃\u001b[1m \u001b[0m\u001b[1m      Param #\u001b[0m\u001b[1m \u001b[0m┃\n",
       "┡━━━━━━━━━━━━━━━━━━━━━━━━━━━━━━━━━╇━━━━━━━━━━━━━━━━━━━━━━━━╇━━━━━━━━━━━━━━━┩\n",
       "│ embedding_5 (\u001b[38;5;33mEmbedding\u001b[0m)         │ (\u001b[38;5;45mNone\u001b[0m, \u001b[38;5;34m500\u001b[0m, \u001b[38;5;34m128\u001b[0m)       │     \u001b[38;5;34m1,280,000\u001b[0m │\n",
       "├─────────────────────────────────┼────────────────────────┼───────────────┤\n",
       "│ simple_rnn_5 (\u001b[38;5;33mSimpleRNN\u001b[0m)        │ (\u001b[38;5;45mNone\u001b[0m, \u001b[38;5;34m128\u001b[0m)            │        \u001b[38;5;34m32,896\u001b[0m │\n",
       "├─────────────────────────────────┼────────────────────────┼───────────────┤\n",
       "│ dense_5 (\u001b[38;5;33mDense\u001b[0m)                 │ (\u001b[38;5;45mNone\u001b[0m, \u001b[38;5;34m1\u001b[0m)              │           \u001b[38;5;34m129\u001b[0m │\n",
       "└─────────────────────────────────┴────────────────────────┴───────────────┘\n"
      ]
     },
     "metadata": {},
     "output_type": "display_data"
    },
    {
     "data": {
      "text/html": [
       "<pre style=\"white-space:pre;overflow-x:auto;line-height:normal;font-family:Menlo,'DejaVu Sans Mono',consolas,'Courier New',monospace\"><span style=\"font-weight: bold\"> Total params: </span><span style=\"color: #00af00; text-decoration-color: #00af00\">1,313,027</span> (5.01 MB)\n",
       "</pre>\n"
      ],
      "text/plain": [
       "\u001b[1m Total params: \u001b[0m\u001b[38;5;34m1,313,027\u001b[0m (5.01 MB)\n"
      ]
     },
     "metadata": {},
     "output_type": "display_data"
    },
    {
     "data": {
      "text/html": [
       "<pre style=\"white-space:pre;overflow-x:auto;line-height:normal;font-family:Menlo,'DejaVu Sans Mono',consolas,'Courier New',monospace\"><span style=\"font-weight: bold\"> Trainable params: </span><span style=\"color: #00af00; text-decoration-color: #00af00\">1,313,025</span> (5.01 MB)\n",
       "</pre>\n"
      ],
      "text/plain": [
       "\u001b[1m Trainable params: \u001b[0m\u001b[38;5;34m1,313,025\u001b[0m (5.01 MB)\n"
      ]
     },
     "metadata": {},
     "output_type": "display_data"
    },
    {
     "data": {
      "text/html": [
       "<pre style=\"white-space:pre;overflow-x:auto;line-height:normal;font-family:Menlo,'DejaVu Sans Mono',consolas,'Courier New',monospace\"><span style=\"font-weight: bold\"> Non-trainable params: </span><span style=\"color: #00af00; text-decoration-color: #00af00\">0</span> (0.00 B)\n",
       "</pre>\n"
      ],
      "text/plain": [
       "\u001b[1m Non-trainable params: \u001b[0m\u001b[38;5;34m0\u001b[0m (0.00 B)\n"
      ]
     },
     "metadata": {},
     "output_type": "display_data"
    },
    {
     "data": {
      "text/html": [
       "<pre style=\"white-space:pre;overflow-x:auto;line-height:normal;font-family:Menlo,'DejaVu Sans Mono',consolas,'Courier New',monospace\"><span style=\"font-weight: bold\"> Optimizer params: </span><span style=\"color: #00af00; text-decoration-color: #00af00\">2</span> (12.00 B)\n",
       "</pre>\n"
      ],
      "text/plain": [
       "\u001b[1m Optimizer params: \u001b[0m\u001b[38;5;34m2\u001b[0m (12.00 B)\n"
      ]
     },
     "metadata": {},
     "output_type": "display_data"
    }
   ],
   "source": [
    "model= load_model('simple_rnn_imdb.h5')\n",
    "model.summary()"
   ]
  },
  {
   "cell_type": "code",
   "execution_count": 7,
   "id": "c7e4442d",
   "metadata": {},
   "outputs": [
    {
     "data": {
      "text/plain": [
       "[array([[-1.7810327e-01, -1.1805959e-01, -2.5314379e-02, ...,\n",
       "          2.1938194e-01,  2.6817513e-01,  1.2600486e-01],\n",
       "        [-1.9136198e-02, -1.6861379e-01,  1.0339008e-01, ...,\n",
       "         -3.5260946e-02, -7.0437794e-03,  4.3802783e-02],\n",
       "        [-2.9640172e-02, -7.6686800e-03,  4.1548228e-03, ...,\n",
       "         -2.7195629e-02,  5.0145071e-02, -5.8585983e-03],\n",
       "        ...,\n",
       "        [-1.0230141e-02, -4.7991958e-02,  1.3758123e-03, ...,\n",
       "         -1.3230306e-04,  8.0154553e-02, -7.8830691e-03],\n",
       "        [-6.0234793e-02,  6.5459877e-02,  3.4846410e-03, ...,\n",
       "         -4.4139542e-02, -6.5101236e-03, -6.9140151e-02],\n",
       "        [-3.9401144e-02, -8.6139373e-02, -7.1242951e-02, ...,\n",
       "          5.3021878e-02, -2.1380402e-02, -5.4939825e-02]], dtype=float32),\n",
       " array([[-0.277421  , -0.2621033 ,  0.19748047, ..., -0.07014149,\n",
       "          0.2718875 ,  0.24627574],\n",
       "        [-0.18081586, -0.11659522,  0.11405451, ..., -0.1918447 ,\n",
       "          0.1384301 ,  0.01506215],\n",
       "        [ 0.2648168 ,  0.18105471, -0.1979669 , ...,  0.03963847,\n",
       "          0.06653894, -0.1872663 ],\n",
       "        ...,\n",
       "        [ 0.18402998,  0.23328093,  0.05793129, ...,  0.26967528,\n",
       "         -0.14759944, -0.00956565],\n",
       "        [ 0.03143531,  0.15573335, -0.07503149, ...,  0.16372581,\n",
       "          0.01330645,  0.05598575],\n",
       "        [ 0.04760699,  0.0169124 , -0.18732753, ...,  0.20695065,\n",
       "          0.00677093, -0.21326745]], dtype=float32),\n",
       " array([[-9.8971799e-02,  1.3444732e-01, -1.2038832e-01, ...,\n",
       "          1.0131764e-01,  5.0593303e-03, -1.0178065e-01],\n",
       "        [-3.7115905e-02,  6.1209265e-02,  3.6835857e-03, ...,\n",
       "         -7.7022366e-02, -7.9770885e-02,  1.4624479e-01],\n",
       "        [ 8.9678541e-02,  1.1927544e-01,  2.2408571e-03, ...,\n",
       "         -3.7249230e-02,  2.4615889e-02,  1.6474609e-01],\n",
       "        ...,\n",
       "        [ 2.2409940e-02, -6.3678771e-02, -2.2884130e-02, ...,\n",
       "          1.2943015e-04, -4.8827037e-02,  7.1365625e-02],\n",
       "        [-9.3418747e-02, -1.3063717e-02,  9.3178280e-02, ...,\n",
       "          6.9193900e-02,  1.0819727e-01,  2.2271873e-01],\n",
       "        [-5.5279296e-02, -2.5169952e-02,  2.4376293e-01, ...,\n",
       "          3.0979194e-04,  1.3646759e-01,  1.9125697e-01]], dtype=float32),\n",
       " array([ 0.09474702,  0.03532688, -0.06434543,  0.03318962,  0.04459433,\n",
       "        -0.03024537,  0.02114411, -0.00443701,  0.00754086, -0.01327321,\n",
       "         0.02010517,  0.06268821,  0.00093087, -0.02097389,  0.01443205,\n",
       "        -0.00345037,  0.00350941,  0.00083139, -0.00066858,  0.02344845,\n",
       "        -0.03333227,  0.03117247,  0.03324083,  0.02925671,  0.04772611,\n",
       "        -0.02722457,  0.01678714,  0.00743758, -0.00036775,  0.04944468,\n",
       "        -0.04068166, -0.02752439, -0.03622575, -0.04452911, -0.02453805,\n",
       "        -0.01747033, -0.01365858,  0.03621524, -0.02455722, -0.021709  ,\n",
       "        -0.009017  , -0.06010945, -0.03151411, -0.05212786,  0.00263386,\n",
       "        -0.01710825,  0.00532339,  0.00563048,  0.02413686, -0.00873893,\n",
       "        -0.0301776 , -0.02522533, -0.0412834 ,  0.01106149,  0.02338291,\n",
       "         0.05505507, -0.00805316, -0.01877267,  0.00392907,  0.04483576,\n",
       "         0.01688934, -0.02566241,  0.02137728, -0.04597918, -0.01226831,\n",
       "         0.00704902, -0.06248204, -0.01589168, -0.00213548,  0.04824753,\n",
       "        -0.01336384,  0.02156121, -0.01758146,  0.05971073,  0.01145444,\n",
       "         0.0152357 , -0.00096581, -0.022533  , -0.03582199,  0.01101288,\n",
       "         0.0017942 , -0.00951747, -0.00203707, -0.03781975,  0.01631776,\n",
       "        -0.02957381, -0.00347807, -0.07830399, -0.0218395 , -0.00155627,\n",
       "        -0.02573398, -0.03189411,  0.03270458,  0.00136247,  0.00780864,\n",
       "         0.07040334, -0.00726966,  0.06305408, -0.01450115,  0.03591391,\n",
       "        -0.04696602, -0.00264429,  0.03262077, -0.03743041, -0.02998413,\n",
       "        -0.00841413, -0.02214949,  0.00160766, -0.0501094 , -0.03865351,\n",
       "         0.00331625,  0.05112192, -0.04642182,  0.02924923,  0.04908052,\n",
       "        -0.03995263, -0.00787437,  0.00610991, -0.04676444,  0.01484969,\n",
       "         0.02681625,  0.04213952,  0.03295244,  0.02887835,  0.04138805,\n",
       "        -0.04661282, -0.02522965, -0.0004433 ], dtype=float32),\n",
       " array([[ 3.28825384e-01],\n",
       "        [ 2.16160610e-01],\n",
       "        [-2.69037277e-01],\n",
       "        [ 2.12997288e-01],\n",
       "        [ 2.22606887e-03],\n",
       "        [-4.41179797e-02],\n",
       "        [ 1.09711044e-01],\n",
       "        [ 1.76468775e-01],\n",
       "        [-2.28813976e-01],\n",
       "        [-2.20045209e-01],\n",
       "        [ 1.08040065e-01],\n",
       "        [ 2.44294047e-01],\n",
       "        [ 1.45615086e-01],\n",
       "        [-2.37997547e-01],\n",
       "        [-2.22479925e-01],\n",
       "        [ 6.70896322e-02],\n",
       "        [-5.53069532e-01],\n",
       "        [ 2.12277169e-04],\n",
       "        [ 2.04047963e-01],\n",
       "        [ 1.17319249e-01],\n",
       "        [-4.34309691e-02],\n",
       "        [-1.74685866e-02],\n",
       "        [ 2.32095286e-01],\n",
       "        [-1.41805992e-01],\n",
       "        [-1.85598746e-01],\n",
       "        [ 1.17835008e-01],\n",
       "        [-5.38239218e-02],\n",
       "        [-1.01744168e-01],\n",
       "        [-2.68850297e-01],\n",
       "        [ 2.15976372e-01],\n",
       "        [ 1.15048058e-01],\n",
       "        [-8.10102820e-02],\n",
       "        [-1.24728151e-01],\n",
       "        [-1.96571633e-01],\n",
       "        [-4.84892279e-02],\n",
       "        [-1.96968466e-01],\n",
       "        [ 7.79474229e-02],\n",
       "        [ 8.73806626e-02],\n",
       "        [ 1.41704872e-01],\n",
       "        [ 6.98138699e-02],\n",
       "        [-1.18044287e-01],\n",
       "        [ 2.48372570e-01],\n",
       "        [-1.68419659e-01],\n",
       "        [ 1.20491765e-01],\n",
       "        [ 2.31883824e-02],\n",
       "        [-4.61636603e-01],\n",
       "        [ 4.99460660e-02],\n",
       "        [-2.06024483e-01],\n",
       "        [ 3.44495364e-02],\n",
       "        [-1.56158861e-03],\n",
       "        [ 8.30438212e-02],\n",
       "        [-1.89788505e-01],\n",
       "        [-1.99824765e-01],\n",
       "        [-1.09656647e-01],\n",
       "        [ 2.50918210e-01],\n",
       "        [-2.04704285e-01],\n",
       "        [ 1.45259634e-01],\n",
       "        [-2.62351595e-02],\n",
       "        [ 5.78153431e-01],\n",
       "        [-2.56075144e-01],\n",
       "        [ 8.05782676e-02],\n",
       "        [ 1.14874944e-01],\n",
       "        [-2.80231595e-01],\n",
       "        [-5.42890653e-02],\n",
       "        [ 5.97941279e-01],\n",
       "        [ 9.29080173e-02],\n",
       "        [-1.39949605e-01],\n",
       "        [-1.33760720e-01],\n",
       "        [-1.55487508e-01],\n",
       "        [ 1.59085467e-02],\n",
       "        [-3.69372629e-02],\n",
       "        [-1.85625240e-01],\n",
       "        [ 1.34139910e-01],\n",
       "        [ 2.63211071e-01],\n",
       "        [ 2.21083343e-01],\n",
       "        [ 2.78862845e-02],\n",
       "        [ 2.59055328e-02],\n",
       "        [-9.23087150e-02],\n",
       "        [-1.12393275e-01],\n",
       "        [ 1.70795798e-01],\n",
       "        [-9.80245769e-02],\n",
       "        [-1.80021022e-02],\n",
       "        [-1.51837632e-01],\n",
       "        [-8.58342424e-02],\n",
       "        [-1.16020247e-01],\n",
       "        [ 7.72422627e-02],\n",
       "        [ 6.28833771e-01],\n",
       "        [ 6.35401458e-02],\n",
       "        [-4.64632630e-01],\n",
       "        [-9.34032574e-02],\n",
       "        [ 3.35759819e-02],\n",
       "        [-4.87775989e-02],\n",
       "        [-1.07566617e-01],\n",
       "        [-4.31808531e-02],\n",
       "        [ 3.46221291e-02],\n",
       "        [-2.13609666e-01],\n",
       "        [-7.30810463e-01],\n",
       "        [ 2.25157455e-01],\n",
       "        [-7.69604892e-02],\n",
       "        [-1.92691281e-01],\n",
       "        [ 8.30805153e-02],\n",
       "        [-1.11809596e-01],\n",
       "        [-4.58276421e-02],\n",
       "        [-4.93832864e-02],\n",
       "        [-1.30277753e-01],\n",
       "        [ 1.52725294e-01],\n",
       "        [ 1.00855373e-01],\n",
       "        [ 1.24574617e-01],\n",
       "        [ 1.35663614e-01],\n",
       "        [-3.59300040e-02],\n",
       "        [ 2.01607987e-01],\n",
       "        [-4.18714359e-02],\n",
       "        [-8.12193193e-03],\n",
       "        [ 9.06759501e-02],\n",
       "        [ 1.76863250e-04],\n",
       "        [-1.95197150e-01],\n",
       "        [-7.38133490e-02],\n",
       "        [ 4.38878566e-01],\n",
       "        [ 1.18945442e-01],\n",
       "        [ 3.99334095e-02],\n",
       "        [ 3.19718458e-02],\n",
       "        [-1.04440443e-01],\n",
       "        [ 1.57700881e-01],\n",
       "        [-7.36447275e-02],\n",
       "        [-1.61590472e-01],\n",
       "        [ 6.31175563e-02],\n",
       "        [-3.55536282e-01],\n",
       "        [-4.26284462e-01]], dtype=float32),\n",
       " array([0.04578046], dtype=float32)]"
      ]
     },
     "execution_count": 7,
     "metadata": {},
     "output_type": "execute_result"
    }
   ],
   "source": [
    "model.get_weights()"
   ]
  },
  {
   "cell_type": "code",
   "execution_count": 8,
   "id": "8930ad31",
   "metadata": {},
   "outputs": [],
   "source": [
    "def decode_review(encoded_review):\n",
    "    return ' '.join([reverse_word_index.get(i-3,'?') for i in encoded_review])"
   ]
  },
  {
   "cell_type": "code",
   "execution_count": 15,
   "id": "601c3c90",
   "metadata": {},
   "outputs": [],
   "source": [
    "def preprocess_text(text,max_features=10000):\n",
    "    words = text.lower().split()\n",
    "    encoded_review = []\n",
    "    for word in words:\n",
    "        index = word_index.get(word, 2) + 3  # 2 for unknown, +3 offset\n",
    "        if index < max_features:\n",
    "            encoded_review.append(index)\n",
    "        else:\n",
    "            encoded_review.append(2)\n",
    "    padded_review = sequence.pad_sequences([encoded_review],maxlen=500)\n",
    "    return padded_review"
   ]
  },
  {
   "cell_type": "code",
   "execution_count": 16,
   "id": "ae401da8",
   "metadata": {},
   "outputs": [],
   "source": [
    "def predict_sentiment(review):\n",
    "    processed_input=preprocess_text(review)\n",
    "    prediction=model.predict(processed_input)\n",
    "    sentiment='Positive' if prediction[0][0]>0.5 else 'Negative'\n",
    "    return sentiment , prediction[0][0]\n",
    "\n"
   ]
  },
  {
   "cell_type": "code",
   "execution_count": 17,
   "id": "e16c91e9",
   "metadata": {},
   "outputs": [
    {
     "name": "stdout",
     "output_type": "stream",
     "text": [
      "\u001b[1m1/1\u001b[0m \u001b[32m━━━━━━━━━━━━━━━━━━━━\u001b[0m\u001b[37m\u001b[0m \u001b[1m0s\u001b[0m 73ms/step\n",
      "Review:This movie wad Fantastic! The acting was great and the plot was thrilling\n",
      "Sentiment: Positive\n",
      "Prediction score: 0.9229943752288818\n"
     ]
    }
   ],
   "source": [
    "example_review= \"This movie wad Fantastic! The acting was great and the plot was thrilling\"\n",
    "\n",
    "sentiment,score=predict_sentiment(example_review)\n",
    "\n",
    "print(f'Review:{example_review}')\n",
    "print(f'Sentiment: {sentiment}')\n",
    "print(f'Prediction score: {score}')"
   ]
  },
  {
   "cell_type": "code",
   "execution_count": null,
   "id": "2c32566a",
   "metadata": {},
   "outputs": [],
   "source": []
  }
 ],
 "metadata": {
  "kernelspec": {
   "display_name": "Python 3",
   "language": "python",
   "name": "python3"
  },
  "language_info": {
   "codemirror_mode": {
    "name": "ipython",
    "version": 3
   },
   "file_extension": ".py",
   "mimetype": "text/x-python",
   "name": "python",
   "nbconvert_exporter": "python",
   "pygments_lexer": "ipython3",
   "version": "3.11.13"
  }
 },
 "nbformat": 4,
 "nbformat_minor": 5
}
